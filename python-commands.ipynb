{
 "cells": [
  {
   "cell_type": "markdown",
   "metadata": {},
   "source": [
    "# Python Important functions and commands"
   ]
  },
  {
   "cell_type": "code",
   "execution_count": 3,
   "metadata": {
    "collapsed": true
   },
   "outputs": [],
   "source": [
    "#create a list\n",
    "a=[5,2,3,6]"
   ]
  },
  {
   "cell_type": "code",
   "execution_count": 4,
   "metadata": {
    "collapsed": true
   },
   "outputs": [],
   "source": [
    "#sort a list\n",
    "a.sort()"
   ]
  },
  {
   "cell_type": "code",
   "execution_count": 5,
   "metadata": {
    "collapsed": false
   },
   "outputs": [
    {
     "name": "stdout",
     "output_type": "stream",
     "text": [
      "[2, 3, 5, 6]\n"
     ]
    }
   ],
   "source": [
    "print a"
   ]
  },
  {
   "cell_type": "code",
   "execution_count": 2,
   "metadata": {
    "collapsed": false
   },
   "outputs": [
    {
     "name": "stdout",
     "output_type": "stream",
     "text": [
      "True\n"
     ]
    }
   ],
   "source": [
    "#ternary condition in python\n",
    "a=5\n",
    "b= True if a==5 else False\n",
    "print b"
   ]
  },
  {
   "cell_type": "code",
   "execution_count": 11,
   "metadata": {
    "collapsed": false
   },
   "outputs": [
    {
     "name": "stdout",
     "output_type": "stream",
     "text": [
      "[0, 0, 0, 0, 0, 0, 0, 0, 0, 0]\n",
      "[[0, 0, 0, 0, 0, 0, 0, 0, 0, 0], [0, 0, 0, 0, 0, 0, 0, 0, 0, 0], [0, 0, 0, 0, 0, 0, 0, 0, 0, 0], [0, 0, 0, 0, 0, 0, 0, 0, 0, 0], [0, 0, 0, 0, 0, 0, 0, 0, 0, 0], [0, 0, 0, 0, 0, 0, 0, 0, 0, 0], [0, 0, 0, 0, 0, 0, 0, 0, 0, 0], [0, 0, 0, 0, 0, 0, 0, 0, 0, 0], [0, 0, 0, 0, 0, 0, 0, 0, 0, 0], [0, 0, 0, 0, 0, 0, 0, 0, 0, 0]]\n"
     ]
    }
   ],
   "source": [
    "#One dimensional array in python\n",
    "m=[0 for x in range(10)]\n",
    "print m\n",
    "\n",
    "#Two dimensional array in python\n",
    "m2=[([0 for x in range(10)]) for x in range(10)]\n",
    "print m2"
   ]
  },
  {
   "cell_type": "code",
   "execution_count": 19,
   "metadata": {
    "collapsed": false
   },
   "outputs": [
    {
     "name": "stdout",
     "output_type": "stream",
     "text": [
      "0\n",
      "1\n",
      "2\n",
      "3\n",
      "4\n"
     ]
    }
   ],
   "source": [
    "#lambda\n",
    "l=(lambda: x for x in range(5))\n",
    "for i in l:\n",
    "    print i()"
   ]
  },
  {
   "cell_type": "code",
   "execution_count": 20,
   "metadata": {
    "collapsed": false
   },
   "outputs": [
    {
     "data": {
      "text/plain": [
       "0"
      ]
     },
     "execution_count": 20,
     "metadata": {},
     "output_type": "execute_result"
    }
   ],
   "source": [
    "#calling system commands\n",
    "import subprocess\n",
    "subprocess.call(['mkdir', 'empty_folder'])"
   ]
  },
  {
   "cell_type": "code",
   "execution_count": 22,
   "metadata": {
    "collapsed": false
   },
   "outputs": [
    {
     "name": "stdout",
     "output_type": "stream",
     "text": [
      "total 84\n",
      "-rw-r--r--    1 csingh   Administ    45961 Jan 18 10:53 Getting Started with SFrames.ipynb\n",
      "-rw-r--r--    1 csingh   Administ     9408 Jan 13 16:46 Getting started with iPython Notebook.ipynb\n",
      "-rw-r--r--    1 csingh   Administ     2907 Jan 25 15:47 Untitled.ipynb\n",
      "drwxr-xr-x    1 csingh   Administ        0 Jan 25 16:46 empty_folder\n",
      "-rw-r--r--    1 csingh   Administ   111385 Jan 25 16:33 not_so_obvious_python_stuff.ipynb\n",
      "\n"
     ]
    }
   ],
   "source": [
    "import subprocess\n",
    "output = subprocess.check_output(['ls', '-l'])\n",
    "print output"
   ]
  },
  {
   "cell_type": "code",
   "execution_count": 24,
   "metadata": {
    "collapsed": false
   },
   "outputs": [
    {
     "name": "stdout",
     "output_type": "stream",
     "text": [
      "0\n"
     ]
    }
   ],
   "source": [
    "#built in shell commands\n",
    "import subprocess\n",
    "output = subprocess.call(['cd', '/'], shell=True)\n",
    "print output"
   ]
  },
  {
   "cell_type": "code",
   "execution_count": 25,
   "metadata": {
    "collapsed": false
   },
   "outputs": [
    {
     "name": "stdout",
     "output_type": "stream",
     "text": [
      "[{'animal': 'dog',\n",
      "  'breeds': ['Border Collie',\n",
      "             'Pit Bull',\n",
      "             'Huskie'],\n",
      "  'legs': 4},\n",
      " {'animal': 'cat',\n",
      "  'breeds': ['Siamese',\n",
      "             'Persian',\n",
      "             'Sphynx'],\n",
      "  'legs': 4}]\n"
     ]
    }
   ],
   "source": [
    "#pretty printing\n",
    "import pprint as pp\n",
    "animals = [{'animal': 'dog', 'legs': 4, 'breeds': ['Border Collie', 'Pit Bull', 'Huskie']}, {'animal': 'cat', 'legs': 4, 'breeds': ['Siamese', 'Persian', 'Sphynx']}]\n",
    "pp.pprint(animals, width=1)"
   ]
  },
  {
   "cell_type": "code",
   "execution_count": 28,
   "metadata": {
    "collapsed": false
   },
   "outputs": [
    {
     "name": "stdout",
     "output_type": "stream",
     "text": [
      "set([1, 2, 3, 5])\n"
     ]
    }
   ],
   "source": [
    "#duplicate removal and sorting using set\n",
    "a=[5,1,2,3,2]\n",
    "print set(a)"
   ]
  },
  {
   "cell_type": "code",
   "execution_count": 30,
   "metadata": {
    "collapsed": false
   },
   "outputs": [
    {
     "name": "stdout",
     "output_type": "stream",
     "text": [
      "(1, 1)\n",
      "(2, 8)\n",
      "(3, 4)\n",
      "(4, 5)\n",
      "(5, 5)\n",
      "(6, 5)\n",
      "(7, 8)\n",
      "(8, 1)\n",
      "(9, 8)\n"
     ]
    }
   ],
   "source": [
    "#enumerate function\n",
    "x = [1, 8, 4, 5, 5, 5, 8, 1, 8]\n",
    "for index, value in enumerate(x, start=1):\n",
    "    print(index, value)"
   ]
  },
  {
   "cell_type": "code",
   "execution_count": 31,
   "metadata": {
    "collapsed": false
   },
   "outputs": [
    {
     "name": "stdout",
     "output_type": "stream",
     "text": [
      "(1, 4)\n",
      "(2, 5)\n",
      "(3, 6)\n"
     ]
    }
   ],
   "source": [
    "#iterting over two lists in parallel\n",
    "a = [1, 2, 3]\n",
    "b = [4, 5, 6]\n",
    "for (a_val, b_val) in zip(a, b):\n",
    "    print(a_val, b_val)"
   ]
  },
  {
   "cell_type": "code",
   "execution_count": 37,
   "metadata": {
    "collapsed": false
   },
   "outputs": [
    {
     "name": "stdout",
     "output_type": "stream",
     "text": [
      "[1, 2, 3, [8, 5]]\n",
      "[1, 2, 3, [4, 5]]\n"
     ]
    }
   ],
   "source": [
    "#shallow copy vs deep copy\n",
    "import copy\n",
    "a=[1,2,3,[4,5]]\n",
    "b=copy.copy(a) #shallow copy\n",
    "c=copy.deepcopy(a) #deep copy\n",
    "a[0]=9\n",
    "a[3][0]=8\n",
    "print b\n",
    "print c"
   ]
  },
  {
   "cell_type": "code",
   "execution_count": 39,
   "metadata": {
    "collapsed": false
   },
   "outputs": [
    {
     "name": "stdout",
     "output_type": "stream",
     "text": [
      "2015-05-29 14:45:00\n",
      "January 25 2016 04:59PM\n"
     ]
    }
   ],
   "source": [
    "#string to date object\n",
    "from datetime import datetime\n",
    "date_obj = datetime.strptime('May 29 2015  2:45PM', '%B %d %Y %I:%M%p')\n",
    "print date_obj\n",
    "\n",
    "#date object to string\n",
    "from datetime import datetime\n",
    "date_obj = datetime.now()\n",
    "date_string = date_obj.strftime('%B %d %Y %I:%M%p')\n",
    "print date_string"
   ]
  },
  {
   "cell_type": "code",
   "execution_count": 41,
   "metadata": {
    "collapsed": false
   },
   "outputs": [
    {
     "name": "stdout",
     "output_type": "stream",
     "text": [
      "{     \"dog\": {         \"lives\": 1,         \"breeds\": [             \"Border Collie\",             \"Pit Bull\",             \"Huskie\"         ]     },     \"cat\": {         \"lives\": 9,         \"breeds\": [             \"Siamese\",             \"Persian\",             \"Sphynx\"         ]     } }\n",
      "\n",
      "{     \"dog\": {         \"lives\": 1,         \"breeds\": [             \"Border Collie\",             \"Pit Bull\",             \"Huskie\"         ]     },     \"cat\": {         \"lives\": 9,         \"breeds\": [             \"Siamese\",             \"Persian\",             \"Sphynx\"         ]     } }\n"
     ]
    }
   ],
   "source": [
    "#writing to a file\n",
    "import os\n",
    "file1=open('data.json','w')\n",
    "jsonData=''\n",
    "inp=raw_input()\n",
    "jsonData+=inp\n",
    "while inp:\n",
    "    inp=raw_input()\n",
    "    jsonData+=inp\n",
    "file1.write(jsonData)\n",
    "print jsonData"
   ]
  },
  {
   "cell_type": "code",
   "execution_count": 44,
   "metadata": {
    "collapsed": false
   },
   "outputs": [
    {
     "name": "stdout",
     "output_type": "stream",
     "text": [
      "{u'lives': 1, u'breeds': [u'Border Collie', u'Pit Bull', u'Huskie']}\n"
     ]
    }
   ],
   "source": [
    "#loading json data using json.load\n",
    "import json\n",
    "with open('data.json') as input_file:\n",
    "    data = json.load(input_file)\n",
    "print data[\"dog\"]"
   ]
  },
  {
   "cell_type": "code",
   "execution_count": 45,
   "metadata": {
    "collapsed": true
   },
   "outputs": [],
   "source": [
    "#writing to json file\n",
    "import json\n",
    "\n",
    "data = {'dog': {'legs': 4, 'breeds': ['Border Collie', 'Pit Bull', 'Huskie']}, 'cat': {'legs': 4, 'breeds': ['Siamese', 'Persian', 'Sphynx']}}\n",
    "\n",
    "with open('data.json', 'w') as output_file:\n",
    "    json.dump(data, output_file, indent=4)"
   ]
  },
  {
   "cell_type": "code",
   "execution_count": 46,
   "metadata": {
    "collapsed": false
   },
   "outputs": [
    {
     "name": "stdout",
     "output_type": "stream",
     "text": [
      "{'cat': ['Fluffy', 'Oreo', 'Bella'],\n",
      " 'dog': ['Roxie', 'Zeus', 'Spike', 'Scooby']}\n"
     ]
    }
   ],
   "source": [
    "#for grouping\n",
    "from itertools import groupby\n",
    "import pprint as pp\n",
    "\n",
    "data = [\n",
    "    {'animal': 'dog', 'name': 'Roxie', 'age': 5},\n",
    "    {'animal': 'dog', 'name': 'Zeus', 'age': 6},\n",
    "    {'animal': 'dog', 'name': 'Spike', 'age': 9},\n",
    "    {'animal': 'dog', 'name': 'Scooby', 'age': 7},\n",
    "    {'animal': 'cat', 'name': 'Fluffy', 'age': 3},\n",
    "    {'animal': 'cat', 'name': 'Oreo', 'age': 5},\n",
    "    {'animal': 'cat', 'name': 'Bella', 'age': 4}   \n",
    "    ]\n",
    "\n",
    "grouped_data = {}\n",
    "\n",
    "for key, group in groupby(data, lambda x: x['animal']):\n",
    "    grouped_data[key] = [thing['name'] for thing in group]\n",
    "\n",
    "pp.pprint(grouped_data)"
   ]
  },
  {
   "cell_type": "code",
   "execution_count": null,
   "metadata": {
    "collapsed": true
   },
   "outputs": [],
   "source": []
  }
 ],
 "metadata": {
  "kernelspec": {
   "display_name": "Python 2",
   "language": "python",
   "name": "python2"
  },
  "language_info": {
   "codemirror_mode": {
    "name": "ipython",
    "version": 2
   },
   "file_extension": ".py",
   "mimetype": "text/x-python",
   "name": "python",
   "nbconvert_exporter": "python",
   "pygments_lexer": "ipython2",
   "version": "2.7.9"
  }
 },
 "nbformat": 4,
 "nbformat_minor": 0
}
