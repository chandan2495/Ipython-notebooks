{
 "cells": [
  {
   "cell_type": "code",
   "execution_count": 2,
   "metadata": {
    "collapsed": true
   },
   "outputs": [],
   "source": [
    "import urllib"
   ]
  },
  {
   "cell_type": "code",
   "execution_count": 3,
   "metadata": {
    "collapsed": false
   },
   "outputs": [],
   "source": [
    "x = urllib.urlopen('http://www.py4inf.com/code/romeo.txt')"
   ]
  },
  {
   "cell_type": "code",
   "execution_count": 7,
   "metadata": {
    "collapsed": false
   },
   "outputs": [
    {
     "ename": "SyntaxError",
     "evalue": "invalid syntax (<ipython-input-7-9788bd4f79c5>, line 1)",
     "output_type": "error",
     "traceback": [
      "\u001b[1;36m  File \u001b[1;32m\"<ipython-input-7-9788bd4f79c5>\"\u001b[1;36m, line \u001b[1;32m1\u001b[0m\n\u001b[1;33m    typeof x\u001b[0m\n\u001b[1;37m           ^\u001b[0m\n\u001b[1;31mSyntaxError\u001b[0m\u001b[1;31m:\u001b[0m invalid syntax\n"
     ]
    }
   ],
   "source": [
    "type"
   ]
  },
  {
   "cell_type": "code",
   "execution_count": 10,
   "metadata": {
    "collapsed": false
   },
   "outputs": [],
   "source": [
    "import urllib\n",
    "from bs4 import BeautifulSoup"
   ]
  },
  {
   "cell_type": "code",
   "execution_count": 20,
   "metadata": {
    "collapsed": false
   },
   "outputs": [
    {
     "name": "stdout",
     "output_type": "stream",
     "text": [
      "2406\n"
     ]
    }
   ],
   "source": [
    "f=urllib.urlopen('http://python-data.dr-chuck.net/comments_229627.html')\n",
    "html=f.read()\n",
    "#print html\n",
    "soup=BeautifulSoup(html,'html.parser')\n",
    "numbs=[int(sp.contents[0]) for sp in soup.findAll('span')]\n",
    "print sum(numbs)"
   ]
  },
  {
   "cell_type": "markdown",
   "metadata": {},
   "source": [
    "#Assignment 2"
   ]
  },
  {
   "cell_type": "code",
   "execution_count": 27,
   "metadata": {
    "collapsed": false
   },
   "outputs": [
    {
     "name": "stdout",
     "output_type": "stream",
     "text": [
      "https://pr4e.dr-chuck.com/tsugi/mod/python-data/data/known_by_Bow.html\n",
      "https://pr4e.dr-chuck.com/tsugi/mod/python-data/data/known_by_Juan.html\n",
      "https://pr4e.dr-chuck.com/tsugi/mod/python-data/data/known_by_William.html\n",
      "https://pr4e.dr-chuck.com/tsugi/mod/python-data/data/known_by_Bo.html\n",
      "https://pr4e.dr-chuck.com/tsugi/mod/python-data/data/known_by_Cindy.html\n",
      "https://pr4e.dr-chuck.com/tsugi/mod/python-data/data/known_by_Ada.html\n",
      "https://pr4e.dr-chuck.com/tsugi/mod/python-data/data/known_by_Kallin.html\n"
     ]
    }
   ],
   "source": [
    "import urllib\n",
    "from bs4 import BeautifulSoup\n",
    "url1='https://pr4e.dr-chuck.com/tsugi/mod/python-data/data/known_by_Abby.html '\n",
    "count=7\n",
    "while count>0:\n",
    "    f=urllib.urlopen(url1)\n",
    "    html=f.read()\n",
    "    #print html\n",
    "    soup=BeautifulSoup(html,'html.parser')\n",
    "    links=[sp['href'] for sp in soup.findAll('a')]\n",
    "    print links[17]\n",
    "    url1=links[17]\n",
    "    count-=1\n",
    "    \n",
    "    "
   ]
  },
  {
   "cell_type": "markdown",
   "metadata": {
    "collapsed": true
   },
   "source": [
    "#Assignment 5\n"
   ]
  },
  {
   "cell_type": "code",
   "execution_count": 28,
   "metadata": {
    "collapsed": true
   },
   "outputs": [],
   "source": [
    "import urllib\n",
    "import xml.etree.ElementTree as ET"
   ]
  },
  {
   "cell_type": "code",
   "execution_count": 47,
   "metadata": {
    "collapsed": false
   },
   "outputs": [
    {
     "name": "stdout",
     "output_type": "stream",
     "text": [
      "Data read  4213\n",
      "50\n",
      "2293\n"
     ]
    }
   ],
   "source": [
    "u=urllib.urlopen('http://python-data.dr-chuck.net/comments_229624.xml')\n",
    "data=u.read()\n",
    "print 'Data read ', len(data)\n",
    "xmlread=ET.fromstring(data)\n",
    "comments=xmlread.findall('comments')\n",
    "comment=comments[0].findall('comment')\n",
    "print len(comment)\n",
    "print sum([int(x.find('count').text) for x in comment])\n"
   ]
  },
  {
   "cell_type": "markdown",
   "metadata": {
    "collapsed": true
   },
   "source": [
    "#Assignment 6"
   ]
  },
  {
   "cell_type": "code",
   "execution_count": 11,
   "metadata": {
    "collapsed": false
   },
   "outputs": [
    {
     "name": "stdout",
     "output_type": "stream",
     "text": [
      "2515\n"
     ]
    }
   ],
   "source": [
    "import urllib\n",
    "import json\n",
    "u=urllib.urlopen(' http://python-data.dr-chuck.net/comments_229628.json')\n",
    "data=json.loads(u.read())\n",
    "\n",
    "total = sum([int(x['count']) for x in data['comments']])\n",
    "print total"
   ]
  },
  {
   "cell_type": "code",
   "execution_count": 17,
   "metadata": {
    "collapsed": false
   },
   "outputs": [
    {
     "name": "stdout",
     "output_type": "stream",
     "text": [
      "Please enter locationUniversity College Dublin\n",
      "ChIJnWe2izAJZ0gRx6t4uyAP82U\n"
     ]
    }
   ],
   "source": [
    "#Question 2\n",
    "import urllib\n",
    "import json\n",
    "address = raw_input('Please enter location')\n",
    "url  = 'http://python-data.dr-chuck.net/geojson?' + urllib.urlencode({'sensor' : 'false' , 'address' : address})\n",
    "u=urllib.urlopen(url)\n",
    "data=json.loads(u.read())\n",
    "\n",
    "print data['results'][0]['place_id']"
   ]
  },
  {
   "cell_type": "code",
   "execution_count": null,
   "metadata": {
    "collapsed": true
   },
   "outputs": [],
   "source": []
  }
 ],
 "metadata": {
  "kernelspec": {
   "display_name": "Python 2",
   "language": "python",
   "name": "python2"
  },
  "language_info": {
   "codemirror_mode": {
    "name": "ipython",
    "version": 2
   },
   "file_extension": ".py",
   "mimetype": "text/x-python",
   "name": "python",
   "nbconvert_exporter": "python",
   "pygments_lexer": "ipython2",
   "version": "2.7.10"
  }
 },
 "nbformat": 4,
 "nbformat_minor": 0
}
